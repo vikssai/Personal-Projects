{
 "cells": [
  {
   "cell_type": "markdown",
   "metadata": {},
   "source": [
    "# Sample Analytics for the TNC trip data"
   ]
  },
  {
   "cell_type": "markdown",
   "metadata": {},
   "source": [
    "All trips, starting November 2018, reported by Transportation Network Providers (sometimes called rideshare companies) to the City of Chicago as part of routine reporting required by ordinance.\n",
    "Census Tracts are suppressed in some cases, and times are rounded to the nearest 15 minutes. Fares are rounded to the nearest \\\\$2.50 and tips are rounded to the nearest \\\\$1.00.\n",
    "\n",
    "The files are saved in the form of python pickle file format which was downloaded from [here](https://data.cityofchicago.org/Transportation/Transportation-Network-Providers-Trips/m6dm-c72p). Present analysis only contains the subset of dataset from 10th March 2019 to 16th March 2019, i.e. one full week of the dataset.\n"
   ]
  },
  {
   "cell_type": "code",
   "execution_count": 1,
   "metadata": {},
   "outputs": [],
   "source": [
    "import numpy as np\n",
    "import pandas as pd\n",
    "import os\n",
    "import pickle\n",
    "import datetime\n",
    "import matplotlib.pyplot as plt\n",
    "import seaborn as sns\n",
    "from scipy import stats\n",
    "%matplotlib inline"
   ]
  },
  {
   "cell_type": "code",
   "execution_count": 34,
   "metadata": {},
   "outputs": [],
   "source": [
    "infile = open(\"one_week.pkl\", 'rb')\n",
    "\n",
    "#infile = \"../../../../tnc/Trips/trip_test.pkl\"\n",
    "df = pickle.load(infile)\n",
    "infile.close()"
   ]
  },
  {
   "cell_type": "markdown",
   "metadata": {},
   "source": [
    "A sample investigation into the data provides the following columns available which could be used for the further analysis. "
   ]
  },
  {
   "cell_type": "code",
   "execution_count": 35,
   "metadata": {},
   "outputs": [
    {
     "data": {
      "text/html": [
       "<div>\n",
       "<style scoped>\n",
       "    .dataframe tbody tr th:only-of-type {\n",
       "        vertical-align: middle;\n",
       "    }\n",
       "\n",
       "    .dataframe tbody tr th {\n",
       "        vertical-align: top;\n",
       "    }\n",
       "\n",
       "    .dataframe thead th {\n",
       "        text-align: right;\n",
       "    }\n",
       "</style>\n",
       "<table border=\"1\" class=\"dataframe\">\n",
       "  <thead>\n",
       "    <tr style=\"text-align: right;\">\n",
       "      <th></th>\n",
       "      <th>Trip ID</th>\n",
       "      <th>Trip Start Timestamp</th>\n",
       "      <th>Trip End Timestamp</th>\n",
       "      <th>Trip Miles</th>\n",
       "      <th>Pickup Census Tract</th>\n",
       "      <th>Dropoff Census Tract</th>\n",
       "      <th>Trip Total</th>\n",
       "      <th>Shared Trip Authorized</th>\n",
       "      <th>Trips Pooled</th>\n",
       "      <th>Pickup Centroid Latitude</th>\n",
       "      <th>Pickup Centroid Longitude</th>\n",
       "      <th>Dropoff Centroid Latitude</th>\n",
       "      <th>Dropoff Centroid Longitude</th>\n",
       "    </tr>\n",
       "  </thead>\n",
       "  <tbody>\n",
       "    <tr>\n",
       "      <th>16</th>\n",
       "      <td>5fa0cc351644ebdfe312bb8c893fd9dce4c8ed75</td>\n",
       "      <td>2019-03-12 14:15:00</td>\n",
       "      <td>2019-03-12 14:30:00</td>\n",
       "      <td>1.5</td>\n",
       "      <td>1.703108e+10</td>\n",
       "      <td>1.703108e+10</td>\n",
       "      <td>9.550000</td>\n",
       "      <td>False</td>\n",
       "      <td>1</td>\n",
       "      <td>41.892040</td>\n",
       "      <td>-87.631866</td>\n",
       "      <td>41.899155</td>\n",
       "      <td>-87.626213</td>\n",
       "    </tr>\n",
       "    <tr>\n",
       "      <th>35</th>\n",
       "      <td>5fa0d65d6505d6a32c8043c87fcd1e57bd6a038c</td>\n",
       "      <td>2019-03-16 12:30:00</td>\n",
       "      <td>2019-03-16 12:45:00</td>\n",
       "      <td>7.1</td>\n",
       "      <td>NaN</td>\n",
       "      <td>NaN</td>\n",
       "      <td>20.049999</td>\n",
       "      <td>False</td>\n",
       "      <td>1</td>\n",
       "      <td>41.946510</td>\n",
       "      <td>-87.806023</td>\n",
       "      <td>41.980263</td>\n",
       "      <td>-87.913628</td>\n",
       "    </tr>\n",
       "    <tr>\n",
       "      <th>42</th>\n",
       "      <td>5fa0da6a5df7c4da455a4028cbbc48aad8f70329</td>\n",
       "      <td>2019-03-11 07:00:00</td>\n",
       "      <td>2019-03-11 07:15:00</td>\n",
       "      <td>2.1</td>\n",
       "      <td>1.703108e+10</td>\n",
       "      <td>1.703107e+10</td>\n",
       "      <td>7.550000</td>\n",
       "      <td>False</td>\n",
       "      <td>1</td>\n",
       "      <td>41.900265</td>\n",
       "      <td>-87.632111</td>\n",
       "      <td>41.930580</td>\n",
       "      <td>-87.642204</td>\n",
       "    </tr>\n",
       "    <tr>\n",
       "      <th>48</th>\n",
       "      <td>5fa0de3f6b2428a658e25364437765487acbae7a</td>\n",
       "      <td>2019-03-16 21:15:00</td>\n",
       "      <td>2019-03-16 21:30:00</td>\n",
       "      <td>5.7</td>\n",
       "      <td>NaN</td>\n",
       "      <td>NaN</td>\n",
       "      <td>10.000000</td>\n",
       "      <td>True</td>\n",
       "      <td>1</td>\n",
       "      <td>41.740204</td>\n",
       "      <td>-87.615967</td>\n",
       "      <td>41.792358</td>\n",
       "      <td>-87.617935</td>\n",
       "    </tr>\n",
       "    <tr>\n",
       "      <th>56</th>\n",
       "      <td>5fa0e2081d4481c4cbd826e6b02c5fee49c5a613</td>\n",
       "      <td>2019-03-15 12:30:00</td>\n",
       "      <td>2019-03-15 12:45:00</td>\n",
       "      <td>11.3</td>\n",
       "      <td>NaN</td>\n",
       "      <td>NaN</td>\n",
       "      <td>27.559999</td>\n",
       "      <td>False</td>\n",
       "      <td>1</td>\n",
       "      <td>NaN</td>\n",
       "      <td>NaN</td>\n",
       "      <td>41.980263</td>\n",
       "      <td>-87.913628</td>\n",
       "    </tr>\n",
       "  </tbody>\n",
       "</table>\n",
       "</div>"
      ],
      "text/plain": [
       "                                     Trip ID Trip Start Timestamp  \\\n",
       "16  5fa0cc351644ebdfe312bb8c893fd9dce4c8ed75  2019-03-12 14:15:00   \n",
       "35  5fa0d65d6505d6a32c8043c87fcd1e57bd6a038c  2019-03-16 12:30:00   \n",
       "42  5fa0da6a5df7c4da455a4028cbbc48aad8f70329  2019-03-11 07:00:00   \n",
       "48  5fa0de3f6b2428a658e25364437765487acbae7a  2019-03-16 21:15:00   \n",
       "56  5fa0e2081d4481c4cbd826e6b02c5fee49c5a613  2019-03-15 12:30:00   \n",
       "\n",
       "    Trip End Timestamp  Trip Miles  Pickup Census Tract  Dropoff Census Tract  \\\n",
       "16 2019-03-12 14:30:00         1.5         1.703108e+10          1.703108e+10   \n",
       "35 2019-03-16 12:45:00         7.1                  NaN                   NaN   \n",
       "42 2019-03-11 07:15:00         2.1         1.703108e+10          1.703107e+10   \n",
       "48 2019-03-16 21:30:00         5.7                  NaN                   NaN   \n",
       "56 2019-03-15 12:45:00        11.3                  NaN                   NaN   \n",
       "\n",
       "    Trip Total  Shared Trip Authorized  Trips Pooled  \\\n",
       "16    9.550000                   False             1   \n",
       "35   20.049999                   False             1   \n",
       "42    7.550000                   False             1   \n",
       "48   10.000000                    True             1   \n",
       "56   27.559999                   False             1   \n",
       "\n",
       "    Pickup Centroid Latitude  Pickup Centroid Longitude  \\\n",
       "16                 41.892040                 -87.631866   \n",
       "35                 41.946510                 -87.806023   \n",
       "42                 41.900265                 -87.632111   \n",
       "48                 41.740204                 -87.615967   \n",
       "56                       NaN                        NaN   \n",
       "\n",
       "    Dropoff Centroid Latitude  Dropoff Centroid Longitude  \n",
       "16                  41.899155                  -87.626213  \n",
       "35                  41.980263                  -87.913628  \n",
       "42                  41.930580                  -87.642204  \n",
       "48                  41.792358                  -87.617935  \n",
       "56                  41.980263                  -87.913628  "
      ]
     },
     "execution_count": 35,
     "metadata": {},
     "output_type": "execute_result"
    }
   ],
   "source": [
    "df.head()"
   ]
  },
  {
   "cell_type": "code",
   "execution_count": 36,
   "metadata": {},
   "outputs": [],
   "source": [
    "df = df.dropna(subset=['Pickup Centroid Latitude', 'Pickup Centroid Longitude', 'Dropoff Centroid Latitude', 'Dropoff Centroid Longitude'])\n",
    "df['pooled'] = df['Trips Pooled'].apply(lambda x: 'Yes' if x>1 else 'No')\n",
    "df['trip_dur'] = df['Trip End Timestamp'] - df['Trip Start Timestamp']\n",
    "df['trip_dur'] = df['trip_dur']/np.timedelta64(1, 'm')"
   ]
  },
  {
   "cell_type": "markdown",
   "metadata": {},
   "source": [
    "Let's do some basic exploratory analysis of the dataset. Following are the few pointers that we can see. \n",
    "1. Percentage of trips pooled \n",
    "2. Percentage of the trips that are authorized for the shared trips \n",
    "3. Distribution of the trip distance \n",
    "4. Distribution of the total trip cost"
   ]
  },
  {
   "cell_type": "code",
   "execution_count": 37,
   "metadata": {},
   "outputs": [
    {
     "data": {
      "text/plain": [
       "False    0.747235\n",
       "True     0.252765\n",
       "Name: Shared Trip Authorized, dtype: float64"
      ]
     },
     "execution_count": 37,
     "metadata": {},
     "output_type": "execute_result"
    }
   ],
   "source": [
    "df['Shared Trip Authorized'].value_counts()/len(df)"
   ]
  },
  {
   "cell_type": "markdown",
   "metadata": {},
   "source": [
    "Aroud 74.72% of the trips are non-authorized for the shared trips which means that majority of the TNCs request are for the non-shared trips. The table below shows that around 7.3% of the trips which were authorised for pooling were not able to be matched."
   ]
  },
  {
   "cell_type": "code",
   "execution_count": 38,
   "metadata": {},
   "outputs": [
    {
     "data": {
      "text/html": [
       "<div>\n",
       "<style scoped>\n",
       "    .dataframe tbody tr th:only-of-type {\n",
       "        vertical-align: middle;\n",
       "    }\n",
       "\n",
       "    .dataframe tbody tr th {\n",
       "        vertical-align: top;\n",
       "    }\n",
       "\n",
       "    .dataframe thead th {\n",
       "        text-align: right;\n",
       "    }\n",
       "</style>\n",
       "<table border=\"1\" class=\"dataframe\">\n",
       "  <thead>\n",
       "    <tr style=\"text-align: right;\">\n",
       "      <th>Shared Trip Authorized</th>\n",
       "      <th>False</th>\n",
       "      <th>True</th>\n",
       "    </tr>\n",
       "    <tr>\n",
       "      <th>pooled</th>\n",
       "      <th></th>\n",
       "      <th></th>\n",
       "    </tr>\n",
       "  </thead>\n",
       "  <tbody>\n",
       "    <tr>\n",
       "      <th>No</th>\n",
       "      <td>0.926805</td>\n",
       "      <td>0.073195</td>\n",
       "    </tr>\n",
       "    <tr>\n",
       "      <th>Yes</th>\n",
       "      <td>0.000289</td>\n",
       "      <td>0.999711</td>\n",
       "    </tr>\n",
       "  </tbody>\n",
       "</table>\n",
       "</div>"
      ],
      "text/plain": [
       "Shared Trip Authorized     False     True \n",
       "pooled                                    \n",
       "No                      0.926805  0.073195\n",
       "Yes                     0.000289  0.999711"
      ]
     },
     "execution_count": 38,
     "metadata": {},
     "output_type": "execute_result"
    }
   ],
   "source": [
    "pd.crosstab(df['pooled'], df['Shared Trip Authorized']).apply(lambda r: r/r.sum(), axis=1)"
   ]
  },
  {
   "cell_type": "code",
   "execution_count": 39,
   "metadata": {},
   "outputs": [
    {
     "data": {
      "text/html": [
       "<div>\n",
       "<style scoped>\n",
       "    .dataframe tbody tr th:only-of-type {\n",
       "        vertical-align: middle;\n",
       "    }\n",
       "\n",
       "    .dataframe tbody tr th {\n",
       "        vertical-align: top;\n",
       "    }\n",
       "\n",
       "    .dataframe thead th {\n",
       "        text-align: right;\n",
       "    }\n",
       "</style>\n",
       "<table border=\"1\" class=\"dataframe\">\n",
       "  <thead>\n",
       "    <tr style=\"text-align: right;\">\n",
       "      <th></th>\n",
       "      <th>Trip Miles</th>\n",
       "      <th>Pickup Census Tract</th>\n",
       "      <th>Dropoff Census Tract</th>\n",
       "      <th>Trip Total</th>\n",
       "      <th>Trips Pooled</th>\n",
       "      <th>Pickup Centroid Latitude</th>\n",
       "      <th>Pickup Centroid Longitude</th>\n",
       "      <th>Dropoff Centroid Latitude</th>\n",
       "      <th>Dropoff Centroid Longitude</th>\n",
       "      <th>trip_dur</th>\n",
       "    </tr>\n",
       "  </thead>\n",
       "  <tbody>\n",
       "    <tr>\n",
       "      <th>count</th>\n",
       "      <td>2.108411e+06</td>\n",
       "      <td>1.685521e+06</td>\n",
       "      <td>1.685521e+06</td>\n",
       "      <td>2.108411e+06</td>\n",
       "      <td>2.108411e+06</td>\n",
       "      <td>2.108411e+06</td>\n",
       "      <td>2.108411e+06</td>\n",
       "      <td>2.108411e+06</td>\n",
       "      <td>2.108411e+06</td>\n",
       "      <td>2.108411e+06</td>\n",
       "    </tr>\n",
       "    <tr>\n",
       "      <th>mean</th>\n",
       "      <td>4.677828e+00</td>\n",
       "      <td>1.714798e+10</td>\n",
       "      <td>1.714798e+10</td>\n",
       "      <td>1.287491e+01</td>\n",
       "      <td>1.379657e+00</td>\n",
       "      <td>4.077803e+01</td>\n",
       "      <td>-8.577094e+01</td>\n",
       "      <td>4.077871e+01</td>\n",
       "      <td>-8.577098e+01</td>\n",
       "      <td>1.658253e+01</td>\n",
       "    </tr>\n",
       "    <tr>\n",
       "      <th>std</th>\n",
       "      <td>4.494465e+00</td>\n",
       "      <td>1.163297e+08</td>\n",
       "      <td>1.163284e+08</td>\n",
       "      <td>8.355762e+00</td>\n",
       "      <td>9.361253e-01</td>\n",
       "      <td>1.114952e+00</td>\n",
       "      <td>1.890870e+00</td>\n",
       "      <td>1.115208e+00</td>\n",
       "      <td>1.891345e+00</td>\n",
       "      <td>1.307915e+01</td>\n",
       "    </tr>\n",
       "    <tr>\n",
       "      <th>min</th>\n",
       "      <td>0.000000e+00</td>\n",
       "      <td>1.703101e+10</td>\n",
       "      <td>1.703101e+10</td>\n",
       "      <td>7.200000e-01</td>\n",
       "      <td>1.000000e+00</td>\n",
       "      <td>4.165022e+01</td>\n",
       "      <td>-8.791363e+01</td>\n",
       "      <td>4.165022e+01</td>\n",
       "      <td>-8.791363e+01</td>\n",
       "      <td>0.000000e+00</td>\n",
       "    </tr>\n",
       "    <tr>\n",
       "      <th>25%</th>\n",
       "      <td>1.600000e+00</td>\n",
       "      <td>1.703108e+10</td>\n",
       "      <td>1.703108e+10</td>\n",
       "      <td>7.550000e+00</td>\n",
       "      <td>1.000000e+00</td>\n",
       "      <td>4.187741e+01</td>\n",
       "      <td>-8.767531e+01</td>\n",
       "      <td>4.187867e+01</td>\n",
       "      <td>-8.767509e+01</td>\n",
       "      <td>1.500000e+01</td>\n",
       "    </tr>\n",
       "    <tr>\n",
       "      <th>50%</th>\n",
       "      <td>3.200000e+00</td>\n",
       "      <td>1.703124e+10</td>\n",
       "      <td>1.703124e+10</td>\n",
       "      <td>1.005000e+01</td>\n",
       "      <td>1.000000e+00</td>\n",
       "      <td>4.189322e+01</td>\n",
       "      <td>-8.765131e+01</td>\n",
       "      <td>4.189266e+01</td>\n",
       "      <td>-8.764991e+01</td>\n",
       "      <td>1.500000e+01</td>\n",
       "    </tr>\n",
       "    <tr>\n",
       "      <th>75%</th>\n",
       "      <td>6.000000e+00</td>\n",
       "      <td>1.703183e+10</td>\n",
       "      <td>1.703183e+10</td>\n",
       "      <td>1.505000e+01</td>\n",
       "      <td>1.000000e+00</td>\n",
       "      <td>4.192862e+01</td>\n",
       "      <td>-8.763171e+01</td>\n",
       "      <td>4.192862e+01</td>\n",
       "      <td>-8.763171e+01</td>\n",
       "      <td>1.500000e+01</td>\n",
       "    </tr>\n",
       "    <tr>\n",
       "      <th>max</th>\n",
       "      <td>2.459000e+02</td>\n",
       "      <td>1.703198e+10</td>\n",
       "      <td>1.703198e+10</td>\n",
       "      <td>4.028500e+02</td>\n",
       "      <td>1.700000e+01</td>\n",
       "      <td>4.202122e+01</td>\n",
       "      <td>-8.753072e+01</td>\n",
       "      <td>4.202122e+01</td>\n",
       "      <td>-8.752995e+01</td>\n",
       "      <td>7.050000e+02</td>\n",
       "    </tr>\n",
       "  </tbody>\n",
       "</table>\n",
       "</div>"
      ],
      "text/plain": [
       "         Trip Miles  Pickup Census Tract  Dropoff Census Tract    Trip Total  \\\n",
       "count  2.108411e+06         1.685521e+06          1.685521e+06  2.108411e+06   \n",
       "mean   4.677828e+00         1.714798e+10          1.714798e+10  1.287491e+01   \n",
       "std    4.494465e+00         1.163297e+08          1.163284e+08  8.355762e+00   \n",
       "min    0.000000e+00         1.703101e+10          1.703101e+10  7.200000e-01   \n",
       "25%    1.600000e+00         1.703108e+10          1.703108e+10  7.550000e+00   \n",
       "50%    3.200000e+00         1.703124e+10          1.703124e+10  1.005000e+01   \n",
       "75%    6.000000e+00         1.703183e+10          1.703183e+10  1.505000e+01   \n",
       "max    2.459000e+02         1.703198e+10          1.703198e+10  4.028500e+02   \n",
       "\n",
       "       Trips Pooled  Pickup Centroid Latitude  Pickup Centroid Longitude  \\\n",
       "count  2.108411e+06              2.108411e+06               2.108411e+06   \n",
       "mean   1.379657e+00              4.077803e+01              -8.577094e+01   \n",
       "std    9.361253e-01              1.114952e+00               1.890870e+00   \n",
       "min    1.000000e+00              4.165022e+01              -8.791363e+01   \n",
       "25%    1.000000e+00              4.187741e+01              -8.767531e+01   \n",
       "50%    1.000000e+00              4.189322e+01              -8.765131e+01   \n",
       "75%    1.000000e+00              4.192862e+01              -8.763171e+01   \n",
       "max    1.700000e+01              4.202122e+01              -8.753072e+01   \n",
       "\n",
       "       Dropoff Centroid Latitude  Dropoff Centroid Longitude      trip_dur  \n",
       "count               2.108411e+06                2.108411e+06  2.108411e+06  \n",
       "mean                4.077871e+01               -8.577098e+01  1.658253e+01  \n",
       "std                 1.115208e+00                1.891345e+00  1.307915e+01  \n",
       "min                 4.165022e+01               -8.791363e+01  0.000000e+00  \n",
       "25%                 4.187867e+01               -8.767509e+01  1.500000e+01  \n",
       "50%                 4.189266e+01               -8.764991e+01  1.500000e+01  \n",
       "75%                 4.192862e+01               -8.763171e+01  1.500000e+01  \n",
       "max                 4.202122e+01               -8.752995e+01  7.050000e+02  "
      ]
     },
     "execution_count": 39,
     "metadata": {},
     "output_type": "execute_result"
    }
   ],
   "source": [
    "df.describe()"
   ]
  },
  {
   "cell_type": "markdown",
   "metadata": {},
   "source": [
    "The summary analysis shows that an *average* trip length is of **4.67 miles** annd the total average cost of the trips is **\\\\$12.87** and average duration of the trip is **16.58 minutes**."
   ]
  },
  {
   "cell_type": "code",
   "execution_count": 14,
   "metadata": {},
   "outputs": [
    {
     "data": {
      "text/plain": [
       "[Text(0,0.5,'Frequency'), Text(0.5,1,'Frequency Histogram')]"
      ]
     },
     "execution_count": 14,
     "metadata": {},
     "output_type": "execute_result"
    },
    {
     "data": {
      "image/png": "[encoded data removed]",
      "text/plain": [
       "<Figure size 432x288 with 1 Axes>"
      ]
     },
     "metadata": {
      "needs_background": "light"
     },
     "output_type": "display_data"
    }
   ],
   "source": [
    "#plot histogram of trip distance \n",
    "plt.hist(df['Trip Miles'], bins= 50, range = [0, 30])\n",
    "plt.gca().set(title='Frequency Histogram', ylabel = 'Frequency')"
   ]
  },
  {
   "cell_type": "code",
   "execution_count": 15,
   "metadata": {},
   "outputs": [
    {
     "data": {
      "text/plain": [
       "[Text(0,0.5,'Frequency'), Text(0.5,1,'Frequency Histogram')]"
      ]
     },
     "execution_count": 15,
     "metadata": {},
     "output_type": "execute_result"
    },
    {
     "data": {
      "image/png": "[encoded data removed]",
      "text/plain": [
       "<Figure size 432x288 with 1 Axes>"
      ]
     },
     "metadata": {
      "needs_background": "light"
     },
     "output_type": "display_data"
    }
   ],
   "source": [
    "#plot histogram of trip fare \n",
    "plt.hist(df['Trip Total'], bins= 50, range = [0, 50])\n",
    "plt.gca().set(title='Frequency Histogram', ylabel = 'Frequency')"
   ]
  },
  {
   "cell_type": "markdown",
   "metadata": {},
   "source": [
    "In addition to these, the AM trip patterns for one day with source and destination could be visualized. An open source library [kepler.gl](https://github.com/keplergl/kepler.gl) has been used to plot the following pictures. \n",
    "\n",
    "\n",
    "![title](Visuals\\Source Destination AM Maps.png)"
   ]
  },
  {
   "cell_type": "markdown",
   "metadata": {},
   "source": [
    "Similary another example could be investigating the origin of small trips (less than 3 miles) in the citywide hexabin polygons where the height of the bins represent the number of the trips taken in that area. \n",
    "\n",
    "![title](Visuals\\Short Trips.png)"
   ]
  },
  {
   "cell_type": "code",
   "execution_count": null,
   "metadata": {},
   "outputs": [],
   "source": []
  }
 ],
 "metadata": {
  "kernelspec": {
   "display_name": "Python 3",
   "language": "python",
   "name": "python3"
  },
  "language_info": {
   "codemirror_mode": {
    "name": "ipython",
    "version": 3
   },
   "file_extension": ".py",
   "mimetype": "text/x-python",
   "name": "python",
   "nbconvert_exporter": "python",
   "pygments_lexer": "ipython3",
   "version": "3.6.4"
  }
 },
 "nbformat": 4,
 "nbformat_minor": 2
}
